{
  "nbformat": 4,
  "nbformat_minor": 0,
  "metadata": {
    "kernelspec": {
      "display_name": "Python 3",
      "language": "python",
      "name": "python3"
    },
    "language_info": {
      "codemirror_mode": {
        "name": "ipython",
        "version": 3
      },
      "file_extension": ".py",
      "mimetype": "text/x-python",
      "name": "python",
      "nbconvert_exporter": "python",
      "pygments_lexer": "ipython3",
      "version": "3.8.1"
    },
    "colab": {
      "name": "dataquest-scikit-learn-tutorial.ipynb",
      "provenance": [],
      "collapsed_sections": [],
      "include_colab_link": true
    }
  },
  "cells": [
    {
      "cell_type": "markdown",
      "metadata": {
        "id": "view-in-github",
        "colab_type": "text"
      },
      "source": [
        "<a href=\"https://colab.research.google.com/github/julien-medina-phd/dataquest-scikit-learn-tutorial/blob/master/dataquest_scikit_learn_tutorial.ipynb\" target=\"_parent\"><img src=\"https://colab.research.google.com/assets/colab-badge.svg\" alt=\"Open In Colab\"/></a>"
      ]
    },
    {
      "cell_type": "markdown",
      "metadata": {
        "id": "kdJ6AG2y4Q40",
        "colab_type": "text"
      },
      "source": [
        "<font size=\"8\">**Scikit-learn Tutorial: Machine Learning in Python: https://www.dataquest.io/blog/sci-kit-learn-tutorial/**</font>"
      ]
    },
    {
      "cell_type": "markdown",
      "metadata": {
        "id": "GsqB_V_x4Q43",
        "colab_type": "text"
      },
      "source": [
        "<font size=\"8\">**Importing the data set**</font>"
      ]
    },
    {
      "cell_type": "code",
      "metadata": {
        "id": "8q7dJGcL4Q45",
        "colab_type": "code",
        "colab": {}
      },
      "source": [
        "#import necessary modules\n",
        "import pandas as pd\n",
        "#store the url in a variable\n",
        "url = \"https://raw.githubusercontent.com/vkrit/data-science-class/master/WA_Fn-UseC_-Sales-Win-Loss.csv\""
      ],
      "execution_count": 0,
      "outputs": []
    },
    {
      "cell_type": "code",
      "metadata": {
        "id": "tDGq9vtf4Q4-",
        "colab_type": "code",
        "colab": {}
      },
      "source": [
        "# Read in the data with `read_csv()`\n",
        "sales_data = pd.read_csv(url)"
      ],
      "execution_count": 0,
      "outputs": []
    },
    {
      "cell_type": "markdown",
      "metadata": {
        "id": "33bwH4Oh4Q5D",
        "colab_type": "text"
      },
      "source": [
        "<font size=\"8\">**Data Exploration**</font>"
      ]
    },
    {
      "cell_type": "code",
      "metadata": {
        "id": "YuSbU38W4Q5F",
        "colab_type": "code",
        "outputId": "aa04e7f8-60a7-4a2a-9ef3-53b06da6dc0f",
        "colab": {
          "base_uri": "https://localhost:8080/",
          "height": 640
        }
      },
      "source": [
        "sales_data"
      ],
      "execution_count": 0,
      "outputs": [
        {
          "output_type": "execute_result",
          "data": {
            "text/html": [
              "<div>\n",
              "<style scoped>\n",
              "    .dataframe tbody tr th:only-of-type {\n",
              "        vertical-align: middle;\n",
              "    }\n",
              "\n",
              "    .dataframe tbody tr th {\n",
              "        vertical-align: top;\n",
              "    }\n",
              "\n",
              "    .dataframe thead th {\n",
              "        text-align: right;\n",
              "    }\n",
              "</style>\n",
              "<table border=\"1\" class=\"dataframe\">\n",
              "  <thead>\n",
              "    <tr style=\"text-align: right;\">\n",
              "      <th></th>\n",
              "      <th>Opportunity Number</th>\n",
              "      <th>Supplies Subgroup</th>\n",
              "      <th>Supplies Group</th>\n",
              "      <th>Region</th>\n",
              "      <th>Route To Market</th>\n",
              "      <th>Elapsed Days In Sales Stage</th>\n",
              "      <th>Opportunity Result</th>\n",
              "      <th>Sales Stage Change Count</th>\n",
              "      <th>Total Days Identified Through Closing</th>\n",
              "      <th>Total Days Identified Through Qualified</th>\n",
              "      <th>Opportunity Amount USD</th>\n",
              "      <th>Client Size By Revenue</th>\n",
              "      <th>Client Size By Employee Count</th>\n",
              "      <th>Revenue From Client Past Two Years</th>\n",
              "      <th>Competitor Type</th>\n",
              "      <th>Ratio Days Identified To Total Days</th>\n",
              "      <th>Ratio Days Validated To Total Days</th>\n",
              "      <th>Ratio Days Qualified To Total Days</th>\n",
              "      <th>Deal Size Category</th>\n",
              "    </tr>\n",
              "  </thead>\n",
              "  <tbody>\n",
              "    <tr>\n",
              "      <th>0</th>\n",
              "      <td>1641984</td>\n",
              "      <td>Exterior Accessories</td>\n",
              "      <td>Car Accessories</td>\n",
              "      <td>Northwest</td>\n",
              "      <td>Fields Sales</td>\n",
              "      <td>76</td>\n",
              "      <td>Won</td>\n",
              "      <td>13</td>\n",
              "      <td>104</td>\n",
              "      <td>101</td>\n",
              "      <td>0</td>\n",
              "      <td>5</td>\n",
              "      <td>5</td>\n",
              "      <td>0</td>\n",
              "      <td>Unknown</td>\n",
              "      <td>0.69636</td>\n",
              "      <td>0.113985</td>\n",
              "      <td>0.154215</td>\n",
              "      <td>1</td>\n",
              "    </tr>\n",
              "    <tr>\n",
              "      <th>1</th>\n",
              "      <td>1658010</td>\n",
              "      <td>Exterior Accessories</td>\n",
              "      <td>Car Accessories</td>\n",
              "      <td>Pacific</td>\n",
              "      <td>Reseller</td>\n",
              "      <td>63</td>\n",
              "      <td>Loss</td>\n",
              "      <td>2</td>\n",
              "      <td>163</td>\n",
              "      <td>163</td>\n",
              "      <td>0</td>\n",
              "      <td>3</td>\n",
              "      <td>5</td>\n",
              "      <td>0</td>\n",
              "      <td>Unknown</td>\n",
              "      <td>0.00000</td>\n",
              "      <td>1.000000</td>\n",
              "      <td>0.000000</td>\n",
              "      <td>1</td>\n",
              "    </tr>\n",
              "    <tr>\n",
              "      <th>2</th>\n",
              "      <td>1674737</td>\n",
              "      <td>Motorcycle Parts</td>\n",
              "      <td>Performance &amp; Non-auto</td>\n",
              "      <td>Pacific</td>\n",
              "      <td>Reseller</td>\n",
              "      <td>24</td>\n",
              "      <td>Won</td>\n",
              "      <td>7</td>\n",
              "      <td>82</td>\n",
              "      <td>82</td>\n",
              "      <td>7750</td>\n",
              "      <td>1</td>\n",
              "      <td>1</td>\n",
              "      <td>0</td>\n",
              "      <td>Unknown</td>\n",
              "      <td>1.00000</td>\n",
              "      <td>0.000000</td>\n",
              "      <td>0.000000</td>\n",
              "      <td>1</td>\n",
              "    </tr>\n",
              "    <tr>\n",
              "      <th>3</th>\n",
              "      <td>1675224</td>\n",
              "      <td>Shelters &amp; RV</td>\n",
              "      <td>Performance &amp; Non-auto</td>\n",
              "      <td>Midwest</td>\n",
              "      <td>Reseller</td>\n",
              "      <td>16</td>\n",
              "      <td>Loss</td>\n",
              "      <td>5</td>\n",
              "      <td>124</td>\n",
              "      <td>124</td>\n",
              "      <td>0</td>\n",
              "      <td>1</td>\n",
              "      <td>1</td>\n",
              "      <td>0</td>\n",
              "      <td>Known</td>\n",
              "      <td>1.00000</td>\n",
              "      <td>0.000000</td>\n",
              "      <td>0.000000</td>\n",
              "      <td>1</td>\n",
              "    </tr>\n",
              "    <tr>\n",
              "      <th>4</th>\n",
              "      <td>1689785</td>\n",
              "      <td>Exterior Accessories</td>\n",
              "      <td>Car Accessories</td>\n",
              "      <td>Pacific</td>\n",
              "      <td>Reseller</td>\n",
              "      <td>69</td>\n",
              "      <td>Loss</td>\n",
              "      <td>11</td>\n",
              "      <td>91</td>\n",
              "      <td>13</td>\n",
              "      <td>69756</td>\n",
              "      <td>1</td>\n",
              "      <td>1</td>\n",
              "      <td>0</td>\n",
              "      <td>Unknown</td>\n",
              "      <td>0.00000</td>\n",
              "      <td>0.141125</td>\n",
              "      <td>0.000000</td>\n",
              "      <td>4</td>\n",
              "    </tr>\n",
              "    <tr>\n",
              "      <th>...</th>\n",
              "      <td>...</td>\n",
              "      <td>...</td>\n",
              "      <td>...</td>\n",
              "      <td>...</td>\n",
              "      <td>...</td>\n",
              "      <td>...</td>\n",
              "      <td>...</td>\n",
              "      <td>...</td>\n",
              "      <td>...</td>\n",
              "      <td>...</td>\n",
              "      <td>...</td>\n",
              "      <td>...</td>\n",
              "      <td>...</td>\n",
              "      <td>...</td>\n",
              "      <td>...</td>\n",
              "      <td>...</td>\n",
              "      <td>...</td>\n",
              "      <td>...</td>\n",
              "      <td>...</td>\n",
              "    </tr>\n",
              "    <tr>\n",
              "      <th>78020</th>\n",
              "      <td>10089932</td>\n",
              "      <td>Batteries &amp; Accessories</td>\n",
              "      <td>Car Accessories</td>\n",
              "      <td>Southeast</td>\n",
              "      <td>Reseller</td>\n",
              "      <td>0</td>\n",
              "      <td>Loss</td>\n",
              "      <td>2</td>\n",
              "      <td>0</td>\n",
              "      <td>0</td>\n",
              "      <td>250000</td>\n",
              "      <td>1</td>\n",
              "      <td>1</td>\n",
              "      <td>3</td>\n",
              "      <td>Unknown</td>\n",
              "      <td>0.00000</td>\n",
              "      <td>0.000000</td>\n",
              "      <td>0.000000</td>\n",
              "      <td>6</td>\n",
              "    </tr>\n",
              "    <tr>\n",
              "      <th>78021</th>\n",
              "      <td>10089961</td>\n",
              "      <td>Shelters &amp; RV</td>\n",
              "      <td>Performance &amp; Non-auto</td>\n",
              "      <td>Northeast</td>\n",
              "      <td>Reseller</td>\n",
              "      <td>0</td>\n",
              "      <td>Won</td>\n",
              "      <td>1</td>\n",
              "      <td>0</td>\n",
              "      <td>0</td>\n",
              "      <td>180000</td>\n",
              "      <td>1</td>\n",
              "      <td>1</td>\n",
              "      <td>0</td>\n",
              "      <td>Unknown</td>\n",
              "      <td>0.00000</td>\n",
              "      <td>0.000000</td>\n",
              "      <td>0.000000</td>\n",
              "      <td>5</td>\n",
              "    </tr>\n",
              "    <tr>\n",
              "      <th>78022</th>\n",
              "      <td>10090145</td>\n",
              "      <td>Exterior Accessories</td>\n",
              "      <td>Car Accessories</td>\n",
              "      <td>Southeast</td>\n",
              "      <td>Reseller</td>\n",
              "      <td>0</td>\n",
              "      <td>Loss</td>\n",
              "      <td>2</td>\n",
              "      <td>0</td>\n",
              "      <td>0</td>\n",
              "      <td>90000</td>\n",
              "      <td>1</td>\n",
              "      <td>1</td>\n",
              "      <td>0</td>\n",
              "      <td>Unknown</td>\n",
              "      <td>0.00000</td>\n",
              "      <td>0.000000</td>\n",
              "      <td>0.000000</td>\n",
              "      <td>4</td>\n",
              "    </tr>\n",
              "    <tr>\n",
              "      <th>78023</th>\n",
              "      <td>10090430</td>\n",
              "      <td>Exterior Accessories</td>\n",
              "      <td>Car Accessories</td>\n",
              "      <td>Southeast</td>\n",
              "      <td>Fields Sales</td>\n",
              "      <td>0</td>\n",
              "      <td>Loss</td>\n",
              "      <td>2</td>\n",
              "      <td>0</td>\n",
              "      <td>0</td>\n",
              "      <td>120000</td>\n",
              "      <td>1</td>\n",
              "      <td>1</td>\n",
              "      <td>0</td>\n",
              "      <td>Unknown</td>\n",
              "      <td>1.00000</td>\n",
              "      <td>0.000000</td>\n",
              "      <td>0.000000</td>\n",
              "      <td>5</td>\n",
              "    </tr>\n",
              "    <tr>\n",
              "      <th>78024</th>\n",
              "      <td>10094255</td>\n",
              "      <td>Interior Accessories</td>\n",
              "      <td>Car Accessories</td>\n",
              "      <td>Mid-Atlantic</td>\n",
              "      <td>Reseller</td>\n",
              "      <td>0</td>\n",
              "      <td>Loss</td>\n",
              "      <td>1</td>\n",
              "      <td>0</td>\n",
              "      <td>0</td>\n",
              "      <td>90000</td>\n",
              "      <td>1</td>\n",
              "      <td>1</td>\n",
              "      <td>0</td>\n",
              "      <td>Unknown</td>\n",
              "      <td>0.00000</td>\n",
              "      <td>0.000000</td>\n",
              "      <td>0.000000</td>\n",
              "      <td>4</td>\n",
              "    </tr>\n",
              "  </tbody>\n",
              "</table>\n",
              "<p>78025 rows × 19 columns</p>\n",
              "</div>"
            ],
            "text/plain": [
              "       Opportunity Number  ... Deal Size Category\n",
              "0                 1641984  ...                  1\n",
              "1                 1658010  ...                  1\n",
              "2                 1674737  ...                  1\n",
              "3                 1675224  ...                  1\n",
              "4                 1689785  ...                  4\n",
              "...                   ...  ...                ...\n",
              "78020            10089932  ...                  6\n",
              "78021            10089961  ...                  5\n",
              "78022            10090145  ...                  4\n",
              "78023            10090430  ...                  5\n",
              "78024            10094255  ...                  4\n",
              "\n",
              "[78025 rows x 19 columns]"
            ]
          },
          "metadata": {
            "tags": []
          },
          "execution_count": 5
        }
      ]
    },
    {
      "cell_type": "code",
      "metadata": {
        "id": "rqL6THW44Q5L",
        "colab_type": "code",
        "outputId": "ddd26bec-56ca-4e7b-be95-5f5d63ada890",
        "colab": {
          "base_uri": "https://localhost:8080/",
          "height": 357
        }
      },
      "source": [
        "# using the dtypes() method to display the different datatypes available\n",
        "sales_data.dtypes"
      ],
      "execution_count": 0,
      "outputs": [
        {
          "output_type": "execute_result",
          "data": {
            "text/plain": [
              "Opportunity Number                           int64\n",
              "Supplies Subgroup                           object\n",
              "Supplies Group                              object\n",
              "Region                                      object\n",
              "Route To Market                             object\n",
              "Elapsed Days In Sales Stage                  int64\n",
              "Opportunity Result                          object\n",
              "Sales Stage Change Count                     int64\n",
              "Total Days Identified Through Closing        int64\n",
              "Total Days Identified Through Qualified      int64\n",
              "Opportunity Amount USD                       int64\n",
              "Client Size By Revenue                       int64\n",
              "Client Size By Employee Count                int64\n",
              "Revenue From Client Past Two Years           int64\n",
              "Competitor Type                             object\n",
              "Ratio Days Identified To Total Days        float64\n",
              "Ratio Days Validated To Total Days         float64\n",
              "Ratio Days Qualified To Total Days         float64\n",
              "Deal Size Category                           int64\n",
              "dtype: object"
            ]
          },
          "metadata": {
            "tags": []
          },
          "execution_count": 6
        }
      ]
    },
    {
      "cell_type": "markdown",
      "metadata": {
        "id": "5vaBpcN14Q5O",
        "colab_type": "text"
      },
      "source": [
        "<font size=\"8\">**Data Visualization**</font>"
      ]
    },
    {
      "cell_type": "code",
      "metadata": {
        "id": "tQhYs1ng4Q5P",
        "colab_type": "code",
        "outputId": "98605d47-af04-4896-bba5-9be4b7aa84c1",
        "colab": {
          "base_uri": "https://localhost:8080/",
          "height": 527
        }
      },
      "source": [
        "# import the seaborn module\n",
        "import seaborn as sns\n",
        "# import the matplotlib module\n",
        "import matplotlib.pyplot as plt\n",
        "# set the background colour of the plot to white\n",
        "sns.set(style=\"whitegrid\", color_codes=True)\n",
        "# setting the plot size for all plots\n",
        "sns.set(rc={'figure.figsize':(11.7,8.27)})\n",
        "# create a countplot\n",
        "sns.countplot('Route To Market',data=sales_data,hue = 'Opportunity Result')\n",
        "# Remove the top and down margin\n",
        "sns.despine(offset=10, trim=True)\n",
        "# display the plotplt.show()"
      ],
      "execution_count": 0,
      "outputs": [
        {
          "output_type": "display_data",
          "data": {
            "image/png": "[encoded data removed]",
            "text/plain": [
              "<Figure size 842.4x595.44 with 1 Axes>"
            ]
          },
          "metadata": {
            "tags": []
          }
        }
      ]
    },
    {
      "cell_type": "code",
      "metadata": {
        "id": "7SdIjxC94Q5T",
        "colab_type": "code",
        "colab": {}
      },
      "source": [
        "# import the seaborn module\n",
        "import seaborn as sns\n",
        "# import the matplotlib module\n",
        "import matplotlib.pyplot as plt\n",
        "# setting the plot size for all plots\n",
        "sns.set(rc={'figure.figsize':(16.7,13.27)})"
      ],
      "execution_count": 0,
      "outputs": []
    },
    {
      "cell_type": "code",
      "metadata": {
        "id": "cOjUF8q44Q5W",
        "colab_type": "code",
        "outputId": "25e31770-c9fa-4a77-d01d-8acfc2522499",
        "colab": {
          "base_uri": "https://localhost:8080/",
          "height": 789
        }
      },
      "source": [
        "# plotting the violinplot\n",
        "sns.violinplot(x=\"Opportunity Result\",y=\"Client Size By Revenue\", hue=\"Opportunity Result\", data=sales_data);\n",
        "plt.show()"
      ],
      "execution_count": 0,
      "outputs": [
        {
          "output_type": "display_data",
          "data": {
            "image/png": "[encoded data removed]",
            "text/plain": [
              "<Figure size 1202.4x955.44 with 1 Axes>"
            ]
          },
          "metadata": {
            "tags": []
          }
        }
      ]
    },
    {
      "cell_type": "markdown",
      "metadata": {
        "id": "6tf1BoZE4Q5Z",
        "colab_type": "text"
      },
      "source": [
        "<font size=\"8\">**Preprocessing Data**</font>"
      ]
    },
    {
      "cell_type": "markdown",
      "metadata": {
        "id": "PHscl7_H4Q5b",
        "colab_type": "text"
      },
      "source": [
        "**We saw in our initial exploration that most of the columns in our data set are strings, but the algorithms in scikit-learn understand only numeric data. Luckily, the scikit-learn library provides us with many methods for converting string data into numerical data. One such method is the LabelEncoder() method. We will use this method to convert the categorical labels in our data set like ‘won’ and ‘loss’ into numerical labels.**"
      ]
    },
    {
      "cell_type": "code",
      "metadata": {
        "id": "dosPh0f04Q5c",
        "colab_type": "code",
        "outputId": "a5616f76-b45e-41bb-b5d8-759bb35317d3",
        "colab": {
          "base_uri": "https://localhost:8080/",
          "height": 204
        }
      },
      "source": [
        "print(\"Supplies Subgroup' : \",sales_data['Supplies Subgroup'].unique())\n",
        "print(\"Region : \",sales_data['Region'].unique())\n",
        "print(\"Route To Market : \",sales_data['Route To Market'].unique())\n",
        "print(\"Opportunity Result : \",sales_data['Opportunity Result'].unique())\n",
        "print(\"Competitor Type : \",sales_data['Competitor Type'].unique())\n",
        "print(\"'Supplies Group : \",sales_data['Supplies Group'].unique())"
      ],
      "execution_count": 0,
      "outputs": [
        {
          "output_type": "stream",
          "text": [
            "Supplies Subgroup' :  ['Exterior Accessories' 'Motorcycle Parts' 'Shelters & RV'\n",
            " 'Garage & Car Care' 'Batteries & Accessories' 'Performance Parts'\n",
            " 'Towing & Hitches' 'Replacement Parts' 'Tires & Wheels'\n",
            " 'Interior Accessories' 'Car Electronics']\n",
            "Region :  ['Northwest' 'Pacific' 'Midwest' 'Southwest' 'Mid-Atlantic' 'Northeast'\n",
            " 'Southeast']\n",
            "Route To Market :  ['Fields Sales' 'Reseller' 'Other' 'Telesales' 'Telecoverage']\n",
            "Opportunity Result :  ['Won' 'Loss']\n",
            "Competitor Type :  ['Unknown' 'Known' 'None']\n",
            "'Supplies Group :  ['Car Accessories' 'Performance & Non-auto' 'Tires & Wheels'\n",
            " 'Car Electronics']\n"
          ],
          "name": "stdout"
        }
      ]
    },
    {
      "cell_type": "code",
      "metadata": {
        "id": "1RUHPamj4Q5f",
        "colab_type": "code",
        "outputId": "dad22ffd-194d-45d5-bc53-431973470404",
        "colab": {
          "base_uri": "https://localhost:8080/",
          "height": 255
        }
      },
      "source": [
        "#import the necessary module\n",
        "from sklearn import preprocessing\n",
        "# create the Labelencoder object\n",
        "le = preprocessing.LabelEncoder()\n",
        "#convert the categorical columns into numeric\n",
        "sales_data['Supplies Subgroup'] = le.fit_transform(sales_data['Supplies Subgroup'])\n",
        "sales_data['Region'] = le.fit_transform(sales_data['Region'])\n",
        "sales_data['Route To Market'] = le.fit_transform(sales_data['Route To Market'])\n",
        "sales_data['Opportunity Result'] = le.fit_transform(sales_data['Opportunity Result'])\n",
        "sales_data['Competitor Type'] = le.fit_transform(sales_data['Competitor Type'])\n",
        "sales_data['Supplies Group'] = le.fit_transform(sales_data['Supplies Group'])\n",
        "#display the initial records\n",
        "sales_data.head()"
      ],
      "execution_count": 0,
      "outputs": [
        {
          "output_type": "execute_result",
          "data": {
            "text/html": [
              "<div>\n",
              "<style scoped>\n",
              "    .dataframe tbody tr th:only-of-type {\n",
              "        vertical-align: middle;\n",
              "    }\n",
              "\n",
              "    .dataframe tbody tr th {\n",
              "        vertical-align: top;\n",
              "    }\n",
              "\n",
              "    .dataframe thead th {\n",
              "        text-align: right;\n",
              "    }\n",
              "</style>\n",
              "<table border=\"1\" class=\"dataframe\">\n",
              "  <thead>\n",
              "    <tr style=\"text-align: right;\">\n",
              "      <th></th>\n",
              "      <th>Opportunity Number</th>\n",
              "      <th>Supplies Subgroup</th>\n",
              "      <th>Supplies Group</th>\n",
              "      <th>Region</th>\n",
              "      <th>Route To Market</th>\n",
              "      <th>Elapsed Days In Sales Stage</th>\n",
              "      <th>Opportunity Result</th>\n",
              "      <th>Sales Stage Change Count</th>\n",
              "      <th>Total Days Identified Through Closing</th>\n",
              "      <th>Total Days Identified Through Qualified</th>\n",
              "      <th>Opportunity Amount USD</th>\n",
              "      <th>Client Size By Revenue</th>\n",
              "      <th>Client Size By Employee Count</th>\n",
              "      <th>Revenue From Client Past Two Years</th>\n",
              "      <th>Competitor Type</th>\n",
              "      <th>Ratio Days Identified To Total Days</th>\n",
              "      <th>Ratio Days Validated To Total Days</th>\n",
              "      <th>Ratio Days Qualified To Total Days</th>\n",
              "      <th>Deal Size Category</th>\n",
              "    </tr>\n",
              "  </thead>\n",
              "  <tbody>\n",
              "    <tr>\n",
              "      <th>0</th>\n",
              "      <td>1641984</td>\n",
              "      <td>2</td>\n",
              "      <td>0</td>\n",
              "      <td>3</td>\n",
              "      <td>0</td>\n",
              "      <td>76</td>\n",
              "      <td>1</td>\n",
              "      <td>13</td>\n",
              "      <td>104</td>\n",
              "      <td>101</td>\n",
              "      <td>0</td>\n",
              "      <td>5</td>\n",
              "      <td>5</td>\n",
              "      <td>0</td>\n",
              "      <td>2</td>\n",
              "      <td>0.69636</td>\n",
              "      <td>0.113985</td>\n",
              "      <td>0.154215</td>\n",
              "      <td>1</td>\n",
              "    </tr>\n",
              "    <tr>\n",
              "      <th>1</th>\n",
              "      <td>1658010</td>\n",
              "      <td>2</td>\n",
              "      <td>0</td>\n",
              "      <td>4</td>\n",
              "      <td>2</td>\n",
              "      <td>63</td>\n",
              "      <td>0</td>\n",
              "      <td>2</td>\n",
              "      <td>163</td>\n",
              "      <td>163</td>\n",
              "      <td>0</td>\n",
              "      <td>3</td>\n",
              "      <td>5</td>\n",
              "      <td>0</td>\n",
              "      <td>2</td>\n",
              "      <td>0.00000</td>\n",
              "      <td>1.000000</td>\n",
              "      <td>0.000000</td>\n",
              "      <td>1</td>\n",
              "    </tr>\n",
              "    <tr>\n",
              "      <th>2</th>\n",
              "      <td>1674737</td>\n",
              "      <td>5</td>\n",
              "      <td>2</td>\n",
              "      <td>4</td>\n",
              "      <td>2</td>\n",
              "      <td>24</td>\n",
              "      <td>1</td>\n",
              "      <td>7</td>\n",
              "      <td>82</td>\n",
              "      <td>82</td>\n",
              "      <td>7750</td>\n",
              "      <td>1</td>\n",
              "      <td>1</td>\n",
              "      <td>0</td>\n",
              "      <td>2</td>\n",
              "      <td>1.00000</td>\n",
              "      <td>0.000000</td>\n",
              "      <td>0.000000</td>\n",
              "      <td>1</td>\n",
              "    </tr>\n",
              "    <tr>\n",
              "      <th>3</th>\n",
              "      <td>1675224</td>\n",
              "      <td>8</td>\n",
              "      <td>2</td>\n",
              "      <td>1</td>\n",
              "      <td>2</td>\n",
              "      <td>16</td>\n",
              "      <td>0</td>\n",
              "      <td>5</td>\n",
              "      <td>124</td>\n",
              "      <td>124</td>\n",
              "      <td>0</td>\n",
              "      <td>1</td>\n",
              "      <td>1</td>\n",
              "      <td>0</td>\n",
              "      <td>0</td>\n",
              "      <td>1.00000</td>\n",
              "      <td>0.000000</td>\n",
              "      <td>0.000000</td>\n",
              "      <td>1</td>\n",
              "    </tr>\n",
              "    <tr>\n",
              "      <th>4</th>\n",
              "      <td>1689785</td>\n",
              "      <td>2</td>\n",
              "      <td>0</td>\n",
              "      <td>4</td>\n",
              "      <td>2</td>\n",
              "      <td>69</td>\n",
              "      <td>0</td>\n",
              "      <td>11</td>\n",
              "      <td>91</td>\n",
              "      <td>13</td>\n",
              "      <td>69756</td>\n",
              "      <td>1</td>\n",
              "      <td>1</td>\n",
              "      <td>0</td>\n",
              "      <td>2</td>\n",
              "      <td>0.00000</td>\n",
              "      <td>0.141125</td>\n",
              "      <td>0.000000</td>\n",
              "      <td>4</td>\n",
              "    </tr>\n",
              "  </tbody>\n",
              "</table>\n",
              "</div>"
            ],
            "text/plain": [
              "   Opportunity Number  ...  Deal Size Category\n",
              "0             1641984  ...                   1\n",
              "1             1658010  ...                   1\n",
              "2             1674737  ...                   1\n",
              "3             1675224  ...                   1\n",
              "4             1689785  ...                   4\n",
              "\n",
              "[5 rows x 19 columns]"
            ]
          },
          "metadata": {
            "tags": []
          },
          "execution_count": 11
        }
      ]
    },
    {
      "cell_type": "markdown",
      "metadata": {
        "id": "4ySnPnrL4Q5i",
        "colab_type": "text"
      },
      "source": [
        "<font size=\"8\">**Training Set & Test Set**</font>"
      ]
    },
    {
      "cell_type": "markdown",
      "metadata": {
        "id": "yfAS30Sj4Q5j",
        "colab_type": "text"
      },
      "source": [
        "**A Machine Learning algorithm needs to be trained on a set of data to learn the relationships between different features and how these features affect the target variable. For this we need to divide the entire data set into two sets. One is the training set on which we are going to train our algorithm to build a model. The other is the testing set on which we will test our model to see how accurate its predictions are.**"
      ]
    },
    {
      "cell_type": "code",
      "metadata": {
        "id": "4KzcnnK_4Q5k",
        "colab_type": "code",
        "colab": {}
      },
      "source": [
        "# select columns other than 'Opportunity Number','Opportunity Result'cols = [col for col in sales_data.columns if col not in ['Opportunity Number','Opportunity Result']]\n",
        "# dropping the 'Opportunity Number'and 'Opportunity Result' columns\n",
        "data = sales_data[[col for col in sales_data.columns if col not in ['Opportunity Number','Opportunity Result']]]\n",
        "#assigning the Oppurtunity Result column as target\n",
        "target = sales_data['Opportunity Result']"
      ],
      "execution_count": 0,
      "outputs": []
    },
    {
      "cell_type": "code",
      "metadata": {
        "id": "T8V8cRc04Q5n",
        "colab_type": "code",
        "outputId": "2b3903b7-a361-4f01-affb-ea47eaf8eed1",
        "colab": {
          "base_uri": "https://localhost:8080/",
          "height": 470
        }
      },
      "source": [
        "data"
      ],
      "execution_count": 0,
      "outputs": [
        {
          "output_type": "execute_result",
          "data": {
            "text/html": [
              "<div>\n",
              "<style scoped>\n",
              "    .dataframe tbody tr th:only-of-type {\n",
              "        vertical-align: middle;\n",
              "    }\n",
              "\n",
              "    .dataframe tbody tr th {\n",
              "        vertical-align: top;\n",
              "    }\n",
              "\n",
              "    .dataframe thead th {\n",
              "        text-align: right;\n",
              "    }\n",
              "</style>\n",
              "<table border=\"1\" class=\"dataframe\">\n",
              "  <thead>\n",
              "    <tr style=\"text-align: right;\">\n",
              "      <th></th>\n",
              "      <th>Supplies Subgroup</th>\n",
              "      <th>Supplies Group</th>\n",
              "      <th>Region</th>\n",
              "      <th>Route To Market</th>\n",
              "      <th>Elapsed Days In Sales Stage</th>\n",
              "      <th>Sales Stage Change Count</th>\n",
              "      <th>Total Days Identified Through Closing</th>\n",
              "      <th>Total Days Identified Through Qualified</th>\n",
              "      <th>Opportunity Amount USD</th>\n",
              "      <th>Client Size By Revenue</th>\n",
              "      <th>Client Size By Employee Count</th>\n",
              "      <th>Revenue From Client Past Two Years</th>\n",
              "      <th>Competitor Type</th>\n",
              "      <th>Ratio Days Identified To Total Days</th>\n",
              "      <th>Ratio Days Validated To Total Days</th>\n",
              "      <th>Ratio Days Qualified To Total Days</th>\n",
              "      <th>Deal Size Category</th>\n",
              "    </tr>\n",
              "  </thead>\n",
              "  <tbody>\n",
              "    <tr>\n",
              "      <th>0</th>\n",
              "      <td>2</td>\n",
              "      <td>0</td>\n",
              "      <td>3</td>\n",
              "      <td>0</td>\n",
              "      <td>76</td>\n",
              "      <td>13</td>\n",
              "      <td>104</td>\n",
              "      <td>101</td>\n",
              "      <td>0</td>\n",
              "      <td>5</td>\n",
              "      <td>5</td>\n",
              "      <td>0</td>\n",
              "      <td>2</td>\n",
              "      <td>0.69636</td>\n",
              "      <td>0.113985</td>\n",
              "      <td>0.154215</td>\n",
              "      <td>1</td>\n",
              "    </tr>\n",
              "    <tr>\n",
              "      <th>1</th>\n",
              "      <td>2</td>\n",
              "      <td>0</td>\n",
              "      <td>4</td>\n",
              "      <td>2</td>\n",
              "      <td>63</td>\n",
              "      <td>2</td>\n",
              "      <td>163</td>\n",
              "      <td>163</td>\n",
              "      <td>0</td>\n",
              "      <td>3</td>\n",
              "      <td>5</td>\n",
              "      <td>0</td>\n",
              "      <td>2</td>\n",
              "      <td>0.00000</td>\n",
              "      <td>1.000000</td>\n",
              "      <td>0.000000</td>\n",
              "      <td>1</td>\n",
              "    </tr>\n",
              "    <tr>\n",
              "      <th>2</th>\n",
              "      <td>5</td>\n",
              "      <td>2</td>\n",
              "      <td>4</td>\n",
              "      <td>2</td>\n",
              "      <td>24</td>\n",
              "      <td>7</td>\n",
              "      <td>82</td>\n",
              "      <td>82</td>\n",
              "      <td>7750</td>\n",
              "      <td>1</td>\n",
              "      <td>1</td>\n",
              "      <td>0</td>\n",
              "      <td>2</td>\n",
              "      <td>1.00000</td>\n",
              "      <td>0.000000</td>\n",
              "      <td>0.000000</td>\n",
              "      <td>1</td>\n",
              "    </tr>\n",
              "    <tr>\n",
              "      <th>3</th>\n",
              "      <td>8</td>\n",
              "      <td>2</td>\n",
              "      <td>1</td>\n",
              "      <td>2</td>\n",
              "      <td>16</td>\n",
              "      <td>5</td>\n",
              "      <td>124</td>\n",
              "      <td>124</td>\n",
              "      <td>0</td>\n",
              "      <td>1</td>\n",
              "      <td>1</td>\n",
              "      <td>0</td>\n",
              "      <td>0</td>\n",
              "      <td>1.00000</td>\n",
              "      <td>0.000000</td>\n",
              "      <td>0.000000</td>\n",
              "      <td>1</td>\n",
              "    </tr>\n",
              "    <tr>\n",
              "      <th>4</th>\n",
              "      <td>2</td>\n",
              "      <td>0</td>\n",
              "      <td>4</td>\n",
              "      <td>2</td>\n",
              "      <td>69</td>\n",
              "      <td>11</td>\n",
              "      <td>91</td>\n",
              "      <td>13</td>\n",
              "      <td>69756</td>\n",
              "      <td>1</td>\n",
              "      <td>1</td>\n",
              "      <td>0</td>\n",
              "      <td>2</td>\n",
              "      <td>0.00000</td>\n",
              "      <td>0.141125</td>\n",
              "      <td>0.000000</td>\n",
              "      <td>4</td>\n",
              "    </tr>\n",
              "    <tr>\n",
              "      <th>...</th>\n",
              "      <td>...</td>\n",
              "      <td>...</td>\n",
              "      <td>...</td>\n",
              "      <td>...</td>\n",
              "      <td>...</td>\n",
              "      <td>...</td>\n",
              "      <td>...</td>\n",
              "      <td>...</td>\n",
              "      <td>...</td>\n",
              "      <td>...</td>\n",
              "      <td>...</td>\n",
              "      <td>...</td>\n",
              "      <td>...</td>\n",
              "      <td>...</td>\n",
              "      <td>...</td>\n",
              "      <td>...</td>\n",
              "      <td>...</td>\n",
              "    </tr>\n",
              "    <tr>\n",
              "      <th>78020</th>\n",
              "      <td>0</td>\n",
              "      <td>0</td>\n",
              "      <td>5</td>\n",
              "      <td>2</td>\n",
              "      <td>0</td>\n",
              "      <td>2</td>\n",
              "      <td>0</td>\n",
              "      <td>0</td>\n",
              "      <td>250000</td>\n",
              "      <td>1</td>\n",
              "      <td>1</td>\n",
              "      <td>3</td>\n",
              "      <td>2</td>\n",
              "      <td>0.00000</td>\n",
              "      <td>0.000000</td>\n",
              "      <td>0.000000</td>\n",
              "      <td>6</td>\n",
              "    </tr>\n",
              "    <tr>\n",
              "      <th>78021</th>\n",
              "      <td>8</td>\n",
              "      <td>2</td>\n",
              "      <td>2</td>\n",
              "      <td>2</td>\n",
              "      <td>0</td>\n",
              "      <td>1</td>\n",
              "      <td>0</td>\n",
              "      <td>0</td>\n",
              "      <td>180000</td>\n",
              "      <td>1</td>\n",
              "      <td>1</td>\n",
              "      <td>0</td>\n",
              "      <td>2</td>\n",
              "      <td>0.00000</td>\n",
              "      <td>0.000000</td>\n",
              "      <td>0.000000</td>\n",
              "      <td>5</td>\n",
              "    </tr>\n",
              "    <tr>\n",
              "      <th>78022</th>\n",
              "      <td>2</td>\n",
              "      <td>0</td>\n",
              "      <td>5</td>\n",
              "      <td>2</td>\n",
              "      <td>0</td>\n",
              "      <td>2</td>\n",
              "      <td>0</td>\n",
              "      <td>0</td>\n",
              "      <td>90000</td>\n",
              "      <td>1</td>\n",
              "      <td>1</td>\n",
              "      <td>0</td>\n",
              "      <td>2</td>\n",
              "      <td>0.00000</td>\n",
              "      <td>0.000000</td>\n",
              "      <td>0.000000</td>\n",
              "      <td>4</td>\n",
              "    </tr>\n",
              "    <tr>\n",
              "      <th>78023</th>\n",
              "      <td>2</td>\n",
              "      <td>0</td>\n",
              "      <td>5</td>\n",
              "      <td>0</td>\n",
              "      <td>0</td>\n",
              "      <td>2</td>\n",
              "      <td>0</td>\n",
              "      <td>0</td>\n",
              "      <td>120000</td>\n",
              "      <td>1</td>\n",
              "      <td>1</td>\n",
              "      <td>0</td>\n",
              "      <td>2</td>\n",
              "      <td>1.00000</td>\n",
              "      <td>0.000000</td>\n",
              "      <td>0.000000</td>\n",
              "      <td>5</td>\n",
              "    </tr>\n",
              "    <tr>\n",
              "      <th>78024</th>\n",
              "      <td>4</td>\n",
              "      <td>0</td>\n",
              "      <td>0</td>\n",
              "      <td>2</td>\n",
              "      <td>0</td>\n",
              "      <td>1</td>\n",
              "      <td>0</td>\n",
              "      <td>0</td>\n",
              "      <td>90000</td>\n",
              "      <td>1</td>\n",
              "      <td>1</td>\n",
              "      <td>0</td>\n",
              "      <td>2</td>\n",
              "      <td>0.00000</td>\n",
              "      <td>0.000000</td>\n",
              "      <td>0.000000</td>\n",
              "      <td>4</td>\n",
              "    </tr>\n",
              "  </tbody>\n",
              "</table>\n",
              "<p>78025 rows × 17 columns</p>\n",
              "</div>"
            ],
            "text/plain": [
              "       Supplies Subgroup  ...  Deal Size Category\n",
              "0                      2  ...                   1\n",
              "1                      2  ...                   1\n",
              "2                      5  ...                   1\n",
              "3                      8  ...                   1\n",
              "4                      2  ...                   4\n",
              "...                  ...  ...                 ...\n",
              "78020                  0  ...                   6\n",
              "78021                  8  ...                   5\n",
              "78022                  2  ...                   4\n",
              "78023                  2  ...                   5\n",
              "78024                  4  ...                   4\n",
              "\n",
              "[78025 rows x 17 columns]"
            ]
          },
          "metadata": {
            "tags": []
          },
          "execution_count": 14
        }
      ]
    },
    {
      "cell_type": "code",
      "metadata": {
        "id": "M9iv1rK-4Q5q",
        "colab_type": "code",
        "outputId": "1261d683-efc6-4cac-d004-fb71c8089a7b",
        "colab": {
          "base_uri": "https://localhost:8080/",
          "height": 221
        }
      },
      "source": [
        "target"
      ],
      "execution_count": 0,
      "outputs": [
        {
          "output_type": "execute_result",
          "data": {
            "text/plain": [
              "0        1\n",
              "1        0\n",
              "2        1\n",
              "3        0\n",
              "4        0\n",
              "        ..\n",
              "78020    0\n",
              "78021    1\n",
              "78022    0\n",
              "78023    0\n",
              "78024    0\n",
              "Name: Opportunity Result, Length: 78025, dtype: int64"
            ]
          },
          "metadata": {
            "tags": []
          },
          "execution_count": 15
        }
      ]
    },
    {
      "cell_type": "markdown",
      "metadata": {
        "id": "5u5idkbP4Q5u",
        "colab_type": "text"
      },
      "source": [
        "**OK, so what did we just do? First, we don’t need the ‘Opportunity Number’ column as it is just a unique identifier for each record. Also, we want to predict the ‘Opportunity Result’, so it should be our ‘target’ rather than part of ‘data’. So, in the first line of the code above, we selected only the columns which didn’t match ‘Opportunity Number’and ‘Opportunity Result’ and assigned them to a variable cols. Next, we created a new dataframe data with the columns in the list cols. This will serve as our feature set. Then we took the ‘Opportunity Result’ column from the dataframe sales_data and created a new dataframe target.**"
      ]
    },
    {
      "cell_type": "code",
      "metadata": {
        "id": "PD1syvB-4Q5w",
        "colab_type": "code",
        "colab": {}
      },
      "source": [
        "#import the necessary module\n",
        "from sklearn.model_selection import train_test_split\n",
        "#split data set into train and test sets\n",
        "data_train, data_test, target_train, target_test = train_test_split(data,target, test_size = 0.30, random_state = 10)"
      ],
      "execution_count": 0,
      "outputs": []
    },
    {
      "cell_type": "markdown",
      "metadata": {
        "id": "cjmAdMpk4Q5z",
        "colab_type": "text"
      },
      "source": [
        "<font size=\"8\">**Building The Model**</font>"
      ]
    },
    {
      "cell_type": "markdown",
      "metadata": {
        "id": "IcS7Z4R04Q5z",
        "colab_type": "text"
      },
      "source": [
        "![title](https://scikit-learn.org/stable/_static/ml_map.png)"
      ]
    },
    {
      "cell_type": "markdown",
      "metadata": {
        "id": "PyslPLuA4Q51",
        "colab_type": "text"
      },
      "source": [
        "We can use this map as a cheat sheet to shortlist the algorithms that we can try out to build our prediction model. Using the checklist let’s see under which category we fall:\n",
        "\n",
        "More than 50 samples – Check\n",
        "Are we predicting a category – Check\n",
        "We have labeled data? ( data with clear names like opportunity amount etc.) – Check\n",
        "Less than 100k samples – Check\n",
        "Based on the checklist that we prepared above and going by the machine_learning_map we can try out the below mentioned algorithms.\n",
        "\n",
        "Naive Bayes\n",
        "Linear SVC\n",
        "K-Neighbours Classifier\n",
        "The real beauty of the scikit-learn library is that it exposes high level APIs for different algorithms, making it easier for us to try out different algorithms and compare the accuracy of the models to see what works best for our data set.\n",
        "\n",
        "Let’s begin trying out the different algorithms one by one."
      ]
    },
    {
      "cell_type": "markdown",
      "metadata": {
        "id": "R_tsqTRZ4Q52",
        "colab_type": "text"
      },
      "source": [
        "<font size=\"5\">**Naive-Bayes**</font>"
      ]
    },
    {
      "cell_type": "markdown",
      "metadata": {
        "id": "Zzr8AGSh4Q52",
        "colab_type": "text"
      },
      "source": [
        "**The algorithm that we are going to use for our sales data is the Gaussian Naive Bayes**"
      ]
    },
    {
      "cell_type": "code",
      "metadata": {
        "id": "C0_5xOdg4Q53",
        "colab_type": "code",
        "outputId": "602ac1f2-f8e1-405b-d871-e20ab32a54c0",
        "colab": {
          "base_uri": "https://localhost:8080/",
          "height": 34
        }
      },
      "source": [
        "# import the necessary module\n",
        "from sklearn.naive_bayes import GaussianNB\n",
        "from sklearn.metrics import accuracy_score\n",
        "#create an object of the type GaussianNB\n",
        "gnb = GaussianNB()\n",
        "#train the algorithm on training data and predict using the testing data\n",
        "pred = gnb.fit(data_train, target_train).predict(data_test)\n",
        "#print(pred.tolist())\n",
        "#print the accuracy score of the model\n",
        "print(\"Naive-Bayes accuracy : \",accuracy_score(target_test, pred, normalize = True))"
      ],
      "execution_count": 0,
      "outputs": [
        {
          "output_type": "stream",
          "text": [
            "Naive-Bayes accuracy :  0.7590567327409433\n"
          ],
          "name": "stdout"
        }
      ]
    },
    {
      "cell_type": "markdown",
      "metadata": {
        "id": "EoK2Popb4Q56",
        "colab_type": "text"
      },
      "source": [
        "<font size=\"5\">**LinearSVC**</font>"
      ]
    },
    {
      "cell_type": "markdown",
      "metadata": {
        "id": "qFWBMIXu4Q56",
        "colab_type": "text"
      },
      "source": [
        "**LinearSVC or Linear Support Vector Classification is a subclass of the SVM (Support Vector Machine) class. We won’t go into the intricacies of the mathematics involved in this class of algorithms, but on a very basic level LinearSVC tries to divide the data into different planes so that it can find a best possible grouping of different classes.**"
      ]
    },
    {
      "cell_type": "code",
      "metadata": {
        "id": "OJv8w86E4Q57",
        "colab_type": "code",
        "outputId": "09160ec0-7835-4833-fdb8-137612c2cee4",
        "colab": {
          "base_uri": "https://localhost:8080/",
          "height": 68
        }
      },
      "source": [
        "#import the necessary modules\n",
        "from sklearn.svm import LinearSVC\n",
        "from sklearn.metrics import accuracy_score\n",
        "#create an object of type LinearSVC\n",
        "svc_model = LinearSVC(random_state=0)\n",
        "#train the algorithm on training data and predict using the testing data\n",
        "pred = svc_model.fit(data_train, target_train).predict(data_test)\n",
        "#print the accuracy score of the model\n",
        "print(\"LinearSVC accuracy : \",accuracy_score(target_test, pred, normalize = True))"
      ],
      "execution_count": 0,
      "outputs": [
        {
          "output_type": "stream",
          "text": [
            "LinearSVC accuracy :  0.4606971975393028\n"
          ],
          "name": "stdout"
        },
        {
          "output_type": "stream",
          "text": [
            "/usr/local/lib/python3.6/dist-packages/sklearn/svm/_base.py:947: ConvergenceWarning: Liblinear failed to converge, increase the number of iterations.\n",
            "  \"the number of iterations.\", ConvergenceWarning)\n"
          ],
          "name": "stderr"
        }
      ]
    },
    {
      "cell_type": "markdown",
      "metadata": {
        "id": "6GQdsM6Y4Q6A",
        "colab_type": "text"
      },
      "source": [
        "<font size=\"5\">**K-Neighbors Classifier**</font>"
      ]
    },
    {
      "cell_type": "code",
      "metadata": {
        "id": "xVXG-pFG4Q6A",
        "colab_type": "code",
        "outputId": "36d9efcc-af88-4c77-c9f9-1dbc856f7f28",
        "colab": {
          "base_uri": "https://localhost:8080/",
          "height": 34
        }
      },
      "source": [
        "#import necessary modules\n",
        "from sklearn.neighbors import KNeighborsClassifier\n",
        "from sklearn.metrics import accuracy_score\n",
        "#create object of the lassifier\n",
        "neigh = KNeighborsClassifier(n_neighbors=3)\n",
        "#Train the algorithm\n",
        "neigh.fit(data_train, target_train)\n",
        "# predict the response\n",
        "pred = neigh.predict(data_test)\n",
        "# evaluate accuracy\n",
        "print (\"KNeighbors accuracy score : \",accuracy_score(target_test, pred))"
      ],
      "execution_count": 0,
      "outputs": [
        {
          "output_type": "stream",
          "text": [
            "KNeighbors accuracy score :  0.8145505809979494\n"
          ],
          "name": "stdout"
        }
      ]
    },
    {
      "cell_type": "markdown",
      "metadata": {
        "id": "z0zp4GEr4Q6D",
        "colab_type": "text"
      },
      "source": [
        "<font size=\"8\">**Performance Comparison**</font>"
      ]
    },
    {
      "cell_type": "markdown",
      "metadata": {
        "id": "MiMCgUgP4Q6E",
        "colab_type": "text"
      },
      "source": [
        "From http://www.scikit-yb.org/en/latest/tutorial.html#visual-model-evaluation\n",
        "\n",
        "Precision is the number of correct positive results divided by the number of all positive results (e.g. How many of the mushrooms we predicted would be edible actually were?).\n",
        "\n",
        "Recall is the number of correct positive results divided by the number of positive results that should have been returned (e.g. How many of the mushrooms that were poisonous did we accurately predict were poisonous?).\n",
        "\n",
        "The F1 score is a measure of a test’s accuracy. It considers both the precision and the recall of the test to compute the score. The F1 score can be interpreted as a weighted average of the precision and recall, where an F1 score reaches its best value at 1 and worst at 0."
      ]
    },
    {
      "cell_type": "markdown",
      "metadata": {
        "id": "yiollACB4Q6F",
        "colab_type": "text"
      },
      "source": [
        "<font size=\"5\">**GaussianNB**</font>"
      ]
    },
    {
      "cell_type": "code",
      "metadata": {
        "id": "rGcNT7iz4Q6F",
        "colab_type": "code",
        "outputId": "c3ae4a89-08a2-4135-f75d-47d0ef672e11",
        "colab": {
          "base_uri": "https://localhost:8080/",
          "height": 455
        }
      },
      "source": [
        "from yellowbrick.classifier import ClassificationReport\n",
        "# Instantiate the classification model and visualizer\n",
        "visualizer = ClassificationReport(gnb, classes=['Won','Loss'])\n",
        "visualizer.fit(data_train, target_train) # Fit the training data to the visualizer\n",
        "visualizer.score(data_test, target_test) # Evaluate the model on the test data\n",
        "g = visualizer.poof() # Draw/show/poof the data"
      ],
      "execution_count": 0,
      "outputs": [
        {
          "output_type": "stream",
          "text": [
            "/usr/local/lib/python3.6/dist-packages/sklearn/utils/deprecation.py:144: FutureWarning: The sklearn.metrics.classification module is  deprecated in version 0.22 and will be removed in version 0.24. The corresponding classes / functions should instead be imported from sklearn.metrics. Anything that cannot be imported from sklearn.metrics is now part of the private API.\n",
            "  warnings.warn(message, FutureWarning)\n"
          ],
          "name": "stderr"
        },
        {
          "output_type": "display_data",
          "data": {
            "image/png": "[encoded data removed]",
            "text/plain": [
              "<Figure size 576x396 with 2 Axes>"
            ]
          },
          "metadata": {
            "tags": []
          }
        }
      ]
    },
    {
      "cell_type": "markdown",
      "metadata": {
        "id": "8rIbU9004Q6I",
        "colab_type": "text"
      },
      "source": [
        "<font size=\"5\">**LinearSVC**</font>"
      ]
    },
    {
      "cell_type": "code",
      "metadata": {
        "id": "f5ig1MnI4Q6I",
        "colab_type": "code",
        "outputId": "cd0425f9-ff20-4a04-f5cc-d862c1d49637",
        "colab": {
          "base_uri": "https://localhost:8080/",
          "height": 435
        }
      },
      "source": [
        "from yellowbrick.classifier import ClassificationReport\n",
        "# Instantiate the classification model and visualizer\n",
        "visualizer = ClassificationReport(svc_model, classes=['Won','Loss'])\n",
        "visualizer.fit(data_train, target_train) # Fit the training data to the visualizer\n",
        "visualizer.score(data_test, target_test) # Evaluate the model on the test data\n",
        "g = visualizer.poof() # Draw/show/poof the data"
      ],
      "execution_count": 0,
      "outputs": [
        {
          "output_type": "stream",
          "text": [
            "/usr/local/lib/python3.6/dist-packages/sklearn/svm/_base.py:947: ConvergenceWarning: Liblinear failed to converge, increase the number of iterations.\n",
            "  \"the number of iterations.\", ConvergenceWarning)\n"
          ],
          "name": "stderr"
        },
        {
          "output_type": "display_data",
          "data": {
            "image/png": "[encoded data removed]",
            "text/plain": [
              "<Figure size 576x396 with 2 Axes>"
            ]
          },
          "metadata": {
            "tags": []
          }
        }
      ]
    },
    {
      "cell_type": "markdown",
      "metadata": {
        "id": "O4GDqdff4Q6L",
        "colab_type": "text"
      },
      "source": [
        "<font size=\"5\">**KNeighborsClassifier**</font>"
      ]
    },
    {
      "cell_type": "code",
      "metadata": {
        "id": "1Y-yq4rh4Q6M",
        "colab_type": "code",
        "outputId": "7d125180-7ca1-4253-ae2c-98c508b82127",
        "colab": {}
      },
      "source": [
        "from yellowbrick.classifier import ClassificationReport\n",
        "# Instantiate the classification model and visualizer\n",
        "visualizer = ClassificationReport(neigh, classes=['Won','Loss'])\n",
        "visualizer.fit(data_train, target_train) # Fit the training data to the visualizer\n",
        "visualizer.score(data_test, target_test) # Evaluate the model on the test data\n",
        "g = visualizer.poof() # Draw/show/poof the data"
      ],
      "execution_count": 0,
      "outputs": [
        {
          "output_type": "stream",
          "text": [
            "c:\\users\\julien\\appdata\\local\\programs\\python\\python38\\lib\\site-packages\\sklearn\\base.py:193: FutureWarning: From version 0.24, get_params will raise an AttributeError if a parameter cannot be retrieved as an instance attribute. Previously it would return None.\n",
            "  warnings.warn('From version 0.24, get_params will raise an '\n"
          ],
          "name": "stderr"
        },
        {
          "output_type": "display_data",
          "data": {
            "image/png": "[encoded data removed]",
            "text/plain": [
              "<Figure size 1202.4x955.44 with 2 Axes>"
            ]
          },
          "metadata": {
            "tags": []
          }
        }
      ]
    },
    {
      "cell_type": "code",
      "metadata": {
        "id": "r19thm2J4Q6P",
        "colab_type": "code",
        "colab": {}
      },
      "source": [
        ""
      ],
      "execution_count": 0,
      "outputs": []
    }
  ]
}